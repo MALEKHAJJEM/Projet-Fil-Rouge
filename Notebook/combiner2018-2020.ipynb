{
 "cells": [
  {
   "cell_type": "code",
   "execution_count": null,
   "id": "e29fe9e3-8fb9-4ec6-ad7f-66dcaa8deab6",
   "metadata": {},
   "outputs": [],
   "source": [
    "2018 - 2020 : combiner les data en un seul : import pandas as pd\n",
    " \n",
    "# Chemin vers le fichier dataset1820.csv\n",
    "chemin_dataset1820 = r'D:\\M2i\\Projet Fil Rouge\\Dataset Finale\\Nouveau dossier\\dataset1820.csv'\n",
    " \n",
    "# Chemin vers le fichier Code_site.csv\n",
    "chemin_code_site = r'D:\\M2i\\Projet Fil Rouge\\Dataset Finale\\Code_site.csv'\n",
    " \n",
    "# Charger le fichier dataset1820.csv dans un DataFrame pandas\n",
    "df_dataset1820 = pd.read_csv(chemin_dataset1820)\n",
    " \n",
    "# Charger le fichier Code_site.csv dans un DataFrame pandas\n",
    "df_code_site = pd.read_csv(chemin_code_site)\n",
    " \n",
    "# Nettoyer les colonnes de dates pour corriger les heures invalides\n",
    "df_dataset1820['Date de début'] = df_dataset1820['Date de début'].str.replace('24:00:00', '00:00:00')\n",
    "df_dataset1820['Date de fin'] = df_dataset1820['Date de fin'].str.replace('24:00:00', '00:00:00')\n",
    " \n",
    "# Convertir les colonnes 'Date de début' et 'Date de fin' au format datetime\n",
    "df_dataset1820['Date de début'] = pd.to_datetime(df_dataset1820['Date de début'], errors='coerce')\n",
    "df_dataset1820['Date de fin'] = pd.to_datetime(df_dataset1820['Date de fin'], errors='coerce')\n",
    " \n",
    "# Fusionner les DataFrames sur la colonne 'code site' pour ajouter la colonne 'Zas'\n",
    "df_merged = pd.merge(df_dataset1820, df_code_site[['code site', 'Zas']], on='code site', how='left')\n",
    " \n",
    "# Ajouter une colonne 'DATES' au format année/mois/jour\n",
    "df_merged['DATES'] = df_merged['Date de début'].dt.strftime('%Y/%m/%d')\n",
    " \n",
    "# Réorganiser les colonnes dans l'ordre spécifié avec 'Zas' entre 'Organisme' et 'code site'\n",
    "colonnes_ordre = [\n",
    "    'Date de début', 'Date de fin', 'Organisme', 'Zas', 'code site', 'nom site', \n",
    "    'type d\\'implantation', 'type d\\'influence', 'NO2', 'O3', 'PM10', 'PM2.5', 'SO2', 'DATES'\n",
    "]\n",
    "df_merged = df_merged[colonnes_ordre]\n",
    " \n",
    "# Sauvegarder le DataFrame modifié dans le fichier DATASETCOMPLET201820.csv\n",
    "chemin_fichier_sortie = r'D:\\M2i\\Projet Fil Rouge\\Dataset Finale\\Nouveau dossier\\DATASETCOMPLET201820.csv'\n",
    "df_merged.to_csv(chemin_fichier_sortie, index=False)\n",
    " \n",
    "print(f\"Le fichier DATASETCOMPLET201820.csv a été exporté avec succès à l'adresse : {chemin_fichier_sortie}\")"
   ]
  }
 ],
 "metadata": {
  "kernelspec": {
   "display_name": "Python 3 (ipykernel)",
   "language": "python",
   "name": "python3"
  },
  "language_info": {
   "codemirror_mode": {
    "name": "ipython",
    "version": 3
   },
   "file_extension": ".py",
   "mimetype": "text/x-python",
   "name": "python",
   "nbconvert_exporter": "python",
   "pygments_lexer": "ipython3",
   "version": "3.11.7"
  }
 },
 "nbformat": 4,
 "nbformat_minor": 5
}
